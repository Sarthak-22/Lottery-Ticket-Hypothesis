{
 "cells": [
  {
   "cell_type": "code",
   "execution_count": null,
   "id": "94f152d5",
   "metadata": {},
   "outputs": [],
   "source": [
    "import wandb\n",
    "wandb.login()"
   ]
  },
  {
   "cell_type": "code",
   "execution_count": null,
   "id": "ca07ae02",
   "metadata": {},
   "outputs": [],
   "source": [
    "import torch\n",
    "import torch.nn as nn\n",
    "import torch.optim as optim\n",
    "import torch.nn.functional as F\n",
    "import torchvision.datasets as datasets\n",
    "import torchvision.transforms as transforms\n",
    "from torchvision import models\n",
    "from torch.nn.utils import prune\n",
    "import numpy as np\n",
    "import copy"
   ]
  },
  {
   "cell_type": "code",
   "execution_count": null,
   "id": "0c647d39",
   "metadata": {},
   "outputs": [],
   "source": [
    "# MODEL-M1\n",
    "class Model1(nn.Module):\n",
    "    def __init__(self):\n",
    "        super(Model1, self).__init__()\n",
    "        self.conv1 = nn.Conv2d(3, 6, kernel_size=(5,5))\n",
    "        self.pool = nn.MaxPool2d(2,2)\n",
    "        self.conv2 = nn.Conv2d(6, 16, kernel_size=(5,5))\n",
    "        self.fc1 = nn.Linear(16*5*5, 120)\n",
    "        self.fc2 = nn.Linear(120, 84)\n",
    "        self.fc3 = nn.Linear(84, 10)            \n",
    "\n",
    "    def forward(self, x):\n",
    "        x = self.pool(F.relu(self.conv1(x)))\n",
    "        x = self.pool(F.relu(self.conv2(x)))\n",
    "        x = torch.flatten(x, 1)\n",
    "        x = F.relu(self.fc1(x))\n",
    "        x = F.relu(self.fc2(x))\n",
    "        x = self.fc3(x)\n",
    "        return x"
   ]
  },
  {
   "cell_type": "code",
   "execution_count": null,
   "id": "51115ac5",
   "metadata": {},
   "outputs": [],
   "source": [
    "# Resnet18 - Uncomment the below code to initialize renset18 as M1 model\n",
    "# M1 = models.resnet18()\n",
    "# num_ftrs = M1.fc.in_features\n",
    "# M1.avgpool = nn.AdaptiveAvgPool2d((1, 1))\n",
    "# M1.fc = nn.Linear(num_ftrs, 10)"
   ]
  },
  {
   "cell_type": "code",
   "execution_count": null,
   "id": "1080bb6d",
   "metadata": {},
   "outputs": [],
   "source": [
    "def accuracy(model, loader):\n",
    "    model.eval()\n",
    "    total_acc = []\n",
    "    with torch.no_grad():\n",
    "        for image, label in loader:\n",
    "            image = image.to(device)\n",
    "            label = label.to(device)\n",
    "            outputs = model(image)\n",
    "            \n",
    "            _, preds = torch.max(outputs, 1)\n",
    "            acc = torch.tensor(torch.sum(preds==label).item() / len(preds))\n",
    "            total_acc.append(acc)\n",
    "            \n",
    "        avg_acc = torch.stack(total_acc).mean()\n",
    "        return (avg_acc*100).item()"
   ]
  },
  {
   "cell_type": "code",
   "execution_count": null,
   "id": "1bbc7581",
   "metadata": {},
   "outputs": [],
   "source": [
    "def prune_model_global_unstructured(model, amount):\n",
    "    model_copy = copy.deepcopy(model)\n",
    "    module_tups = []\n",
    "    for module in model_copy.modules():\n",
    "         if isinstance(module, torch.nn.Conv2d) or isinstance(module, torch.nn.Linear):\n",
    "            module_tups.append((module, 'weight'))\n",
    "            module_tups.append((module, 'bias'))\n",
    "\n",
    "    prune.global_unstructured(\n",
    "        parameters=module_tups, pruning_method=prune.L1Unstructured,\n",
    "        amount=amount,\n",
    "    )\n",
    "    \n",
    "    weight_mask = list(model_copy.named_buffers())\n",
    "    \n",
    "    for module, name in module_tups:\n",
    "        prune.remove(module, name) \n",
    "        \n",
    "    return model_copy, weight_mask"
   ]
  },
  {
   "cell_type": "code",
   "execution_count": null,
   "id": "fa381a95",
   "metadata": {},
   "outputs": [],
   "source": [
    "# CIFAR10 dataset\n",
    "\n",
    "# Transforms\n",
    "transform = transforms.Compose([transforms.ToTensor(), transforms.Normalize((0.4914, 0.4822, 0.4465), (0.2023, 0.1994, 0.2010))])\n",
    "\n",
    "# Dataset\n",
    "train_dataset = datasets.CIFAR10(root='./data', train=True, transform = transform, download=True)\n",
    "test_dataset = datasets.CIFAR10(root='./data', train=False, transform = transform)\n",
    "\n",
    "# Train-val split\n",
    "torch.manual_seed(39)\n",
    "val_size = int(0.1*len(train_dataset))\n",
    "train_size = len(train_dataset) - val_size\n",
    "train, val = torch.utils.data.random_split(train_dataset, [train_size, val_size])"
   ]
  },
  {
   "cell_type": "code",
   "execution_count": null,
   "id": "7d8ad805",
   "metadata": {},
   "outputs": [],
   "source": [
    "# Dataloader\n",
    "device = 'cuda:0' if torch.cuda.is_available() else 'cpu'\n",
    "batch_size = 8\n",
    "\n",
    "train_loader = torch.utils.data.DataLoader(train, batch_size=batch_size, shuffle=True, num_workers=4)\n",
    "val_loader = torch.utils.data.DataLoader(val, batch_size=batch_size, num_workers=4)\n",
    "test_loader = torch.utils.data.DataLoader(test_dataset, batch_size=batch_size, num_workers=4)"
   ]
  },
  {
   "cell_type": "code",
   "execution_count": null,
   "id": "caaa6a76",
   "metadata": {
    "scrolled": false
   },
   "outputs": [],
   "source": [
    "# Load Model1 from Task_1\n",
    "M1 = M1.to(device)\n",
    "M1.load_state_dict(torch.load('save_model/Task_1/M1_weights.pth', map_location=device))"
   ]
  },
  {
   "cell_type": "code",
   "execution_count": null,
   "id": "0d3b7b5e",
   "metadata": {},
   "outputs": [],
   "source": [
    "wandb.init(\n",
    "    project='VCL_Tasks',\n",
    "    group = 'Task_3',\n",
    ")\n",
    "\n",
    "for amount in np.arange(1, 10, 1)/10:\n",
    "    M2, weight_mask = prune_model_global_unstructured(M1, amount)\n",
    "    \n",
    "    train_accuracy = accuracy(M2, train_loader)\n",
    "    val_accuracy = accuracy(M2, val_loader)\n",
    "    test_accuracy = accuracy(M2,  test_loader)\n",
    "    \n",
    "    print(f'Train Accuracy:{train_accuracy}, Validation Accuracy:{val_accuracy}, Test Accuracy:{test_accuracy}, Sparsity:{amount}')\n",
    "    wandb.log({'Task_3/Train Accuracy':train_accuracy, 'Task_3/Validation Accuracy':val_accuracy, 'Task_3/Test Accuracy':test_accuracy, 'Task_3/Sparsity':amount})\n",
    "    \n",
    "    checkpoint = {\n",
    "    f'M2_sparsity_{amount*100}_weights.pth':M2.state_dict(),\n",
    "    'weight_mask':weight_mask,\n",
    "     }\n",
    "    torch.save(checkpoint, f'save_model/Task_3/M2_sparsity_{amount*100}.tar')\n",
    "    \n",
    "wandb.finish()"
   ]
  }
 ],
 "metadata": {
  "kernelspec": {
   "display_name": "Python 3 (ipykernel)",
   "language": "python",
   "name": "python3"
  },
  "language_info": {
   "codemirror_mode": {
    "name": "ipython",
    "version": 3
   },
   "file_extension": ".py",
   "mimetype": "text/x-python",
   "name": "python",
   "nbconvert_exporter": "python",
   "pygments_lexer": "ipython3",
   "version": "3.7.11"
  }
 },
 "nbformat": 4,
 "nbformat_minor": 5
}
