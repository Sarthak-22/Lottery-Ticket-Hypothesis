{
 "cells": [
  {
   "cell_type": "code",
   "execution_count": null,
   "metadata": {
    "colab": {
     "base_uri": "https://localhost:8080/"
    },
    "id": "yA5XtMf7TGSP",
    "outputId": "81d63e32-c3a7-4a5b-b250-b957465fcbcc",
    "scrolled": true
   },
   "outputs": [],
   "source": [
    "import wandb\n",
    "wandb.login()"
   ]
  },
  {
   "cell_type": "code",
   "execution_count": null,
   "metadata": {
    "id": "h-RHMF2uk5nG"
   },
   "outputs": [],
   "source": [
    "import torch\n",
    "import torch.nn as nn\n",
    "import torch.optim as optim\n",
    "import torch.nn.functional as F\n",
    "import torchvision.datasets as datasets\n",
    "import torchvision.transforms as transforms\n",
    "from torchvision import models"
   ]
  },
  {
   "cell_type": "code",
   "execution_count": null,
   "metadata": {
    "id": "UvlmS4yAffHs"
   },
   "outputs": [],
   "source": [
    "# MODEL-M1\n",
    "class Model1(nn.Module):\n",
    "    def __init__(self):\n",
    "        super(Model1, self).__init__()\n",
    "        self.conv1 = nn.Conv2d(3, 6, kernel_size=(5,5))\n",
    "        self.pool = nn.MaxPool2d(2,2)\n",
    "        self.conv2 = nn.Conv2d(6, 16, kernel_size=(5,5))\n",
    "        self.fc1 = nn.Linear(16*5*5, 120)\n",
    "        self.fc2 = nn.Linear(120, 84)\n",
    "        self.fc3 = nn.Linear(84, 10)            \n",
    "\n",
    "    def forward(self, x):\n",
    "        x = self.pool(F.relu(self.conv1(x)))\n",
    "        x = self.pool(F.relu(self.conv2(x)))\n",
    "        x = torch.flatten(x, 1)\n",
    "        x = F.relu(self.fc1(x))\n",
    "        x = F.relu(self.fc2(x))\n",
    "        x = self.fc3(x)\n",
    "        return x\n",
    "\n",
    "\n",
    "def test():\n",
    "    model = Model1()\n",
    "    input = torch.randn(1, 3, 32, 32)\n",
    "    out = model(input)\n",
    "    print(out.data, out.shape)\n",
    "    \n",
    "#test()    "
   ]
  },
  {
   "cell_type": "code",
   "execution_count": null,
   "metadata": {},
   "outputs": [],
   "source": [
    "# Resnet18 - Uncomment the below code to train resnet18\n",
    "# M1 = models.resnet18()\n",
    "# num_ftrs = M1.fc.in_features\n",
    "# M1.avgpool = nn.AdaptiveAvgPool2d((1, 1))\n",
    "# M1.fc = nn.Linear(num_ftrs, 10)"
   ]
  },
  {
   "cell_type": "code",
   "execution_count": null,
   "metadata": {
    "colab": {
     "base_uri": "https://localhost:8080/"
    },
    "id": "TCgeJEhigRZ0",
    "outputId": "a7638b43-1b18-4d8c-d384-1258d71080be"
   },
   "outputs": [],
   "source": [
    "# CIFAR10 dataset\n",
    "\n",
    "# Transforms\n",
    "transform = transforms.Compose([transforms.ToTensor(), transforms.Normalize((0.4914, 0.4822, 0.4465), (0.2023, 0.1994, 0.2010))])\n",
    "\n",
    "# Dataset\n",
    "train_dataset = datasets.CIFAR10(root='./data', train=True, transform = transform, download=True)\n",
    "test_dataset = datasets.CIFAR10(root='./data', train=False, transform = transform)\n",
    "\n",
    "# Train-val split\n",
    "torch.manual_seed(39)\n",
    "val_size = int(0.1*len(train_dataset))\n",
    "train_size = len(train_dataset) - val_size\n",
    "train, val = torch.utils.data.random_split(train_dataset, [train_size, val_size])"
   ]
  },
  {
   "cell_type": "code",
   "execution_count": null,
   "metadata": {
    "colab": {
     "base_uri": "https://localhost:8080/",
     "height": 953
    },
    "id": "pldVd8qhlIdQ",
    "outputId": "486a5fe4-183c-48a5-ee75-6016515d5c81",
    "scrolled": false
   },
   "outputs": [],
   "source": [
    "# Dataloader & Hyperparameters\n",
    "device = 'cuda:0' if torch.cuda.is_available() else 'cpu'\n",
    "batch_size = 8\n",
    "learning_rate = 1e-3\n",
    "epochs = 50\n",
    "\n",
    "\n",
    "train_loader = torch.utils.data.DataLoader(train, batch_size=batch_size, shuffle=True, num_workers=4)\n",
    "val_loader = torch.utils.data.DataLoader(val, batch_size=batch_size, num_workers=4)\n",
    "test_loader = torch.utils.data.DataLoader(test_dataset, batch_size=batch_size, num_workers=4)"
   ]
  },
  {
   "cell_type": "code",
   "execution_count": null,
   "metadata": {
    "id": "V3JrBsJL12Zc"
   },
   "outputs": [],
   "source": [
    "def accuracy(outputs, labels):\n",
    "    _, preds = torch.max(outputs, dim=1)\n",
    "    return torch.tensor(torch.sum(preds == labels).item() / len(preds))"
   ]
  },
  {
   "cell_type": "code",
   "execution_count": null,
   "metadata": {
    "id": "3YO3yvdgorlM"
   },
   "outputs": [],
   "source": [
    "def train(train_loader, val_loader, model, device=device, epochs=epochs):  \n",
    "    \n",
    "  wandb.init(\n",
    "    project = 'VCL_Tasks',\n",
    "    group = 'Task_1',\n",
    "  )\n",
    "  \n",
    "  model = model.to(device)\n",
    "  criterion = nn.CrossEntropyLoss().to(device=device)\n",
    "  optimizer = optim.Adam(model.parameters(), lr=learning_rate)\n",
    "\n",
    "  for epoch in range(epochs):\n",
    "    # Training\n",
    "    avg_train_loss = 0\n",
    "    train_acc = []\n",
    "    model.train() \n",
    "    for batch_idx, (image, label) in enumerate(train_loader):\n",
    "        image = image.to(device=device)\n",
    "        label = label.to(device=device)\n",
    "        \n",
    "        out = model(image)\n",
    "        loss = criterion(out, label)\n",
    "        acc = accuracy(out, label)\n",
    "        train_acc.append(acc)\n",
    "        avg_train_loss += loss.item()\n",
    "\n",
    "        optimizer.zero_grad()\n",
    "        loss.backward()\n",
    "        optimizer.step()\n",
    "        \n",
    "    avg_train_loss = avg_train_loss/len(train_loader)\n",
    "    avg_train_acc = torch.stack(train_acc).mean()\n",
    "    wandb.log({'Task_1/Train Accuracy' : avg_train_acc, 'Task_1/epoch':epoch+1})\n",
    "    wandb.log({'Task_1/Train Loss':avg_train_loss, 'Task_1/epoch':epoch+1})\n",
    "\n",
    "\n",
    "    # Validation \n",
    "    avg_val_loss = 0\n",
    "    val_acc = []\n",
    "    model.eval()\n",
    "    for batch_idx, (image, label) in enumerate(val_loader):\n",
    "        with torch.no_grad():\n",
    "            image = image.to(device=device)\n",
    "            label = label.to(device=device)\n",
    "\n",
    "            out = model(image)\n",
    "            loss = criterion(out, label)\n",
    "            acc = accuracy(out, label)\n",
    "            val_acc.append(acc)\n",
    "\n",
    "            avg_val_loss += loss.item()\n",
    "        \n",
    "    avg_val_loss = avg_val_loss/len(val_loader)\n",
    "    avg_val_acc = torch.stack(val_acc).mean()\n",
    "    wandb.log({'Task_1/Validation Accuracy' : avg_val_acc, 'Task_1/epoch':epoch+1})\n",
    "    wandb.log({'Task_1/Validation Loss' : avg_val_loss, 'Task_1/epoch':epoch+1})\n",
    "\n",
    "    print(f'Epochs:{epoch+1}, Average Train Loss:{avg_train_loss}, Average Train Accuracy:{avg_train_acc}, Average Validation Loss:{avg_val_loss}, Validation Accuracy:{avg_val_acc}')\n",
    "\n",
    "    torch.save(model.state_dict(), 'save_model/Task_1/M1_weights.pth')\n",
    "    wandb.save('save_model/Task_1/M1_weights.pth')\n",
    "  wandb.finish()  "
   ]
  },
  {
   "cell_type": "code",
   "execution_count": null,
   "metadata": {
    "colab": {
     "base_uri": "https://localhost:8080/"
    },
    "id": "kPssdkcMBG6J",
    "outputId": "8a82d17a-5731-4401-f89f-0fdc61f76d78",
    "scrolled": false
   },
   "outputs": [],
   "source": [
    "train(train_loader, val_loader, M1, device=device)"
   ]
  }
 ],
 "metadata": {
  "accelerator": "GPU",
  "colab": {
   "name": "VCL_Task1.ipynb",
   "provenance": []
  },
  "kernelspec": {
   "display_name": "Python 3 (ipykernel)",
   "language": "python",
   "name": "python3"
  },
  "language_info": {
   "codemirror_mode": {
    "name": "ipython",
    "version": 3
   },
   "file_extension": ".py",
   "mimetype": "text/x-python",
   "name": "python",
   "nbconvert_exporter": "python",
   "pygments_lexer": "ipython3",
   "version": "3.7.11"
  }
 },
 "nbformat": 4,
 "nbformat_minor": 1
}
